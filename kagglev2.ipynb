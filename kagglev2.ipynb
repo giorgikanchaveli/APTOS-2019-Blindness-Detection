{
 "cells": [
  {
   "cell_type": "code",
   "execution_count": null,
   "metadata": {},
   "outputs": [],
   "source": [
    "import numpy as np\n",
    "import pandas as pd\n",
    "import matplotlib.pyplot as plt\n",
    "\n",
    "from sklearn.metrics import confusion_matrix\n",
    "import torch\n",
    "import torch.nn as nn\n",
    "import torch.optim as optim\n",
    "import torch.nn.functional as F\n",
    "\n",
    "import torchvision\n",
    "import torchvision.transforms as transforms\n",
    "from torch.utils.data import DataLoader, Dataset\n",
    "import math\n",
    "\n",
    "import matplotlib.pyplot as plt\n",
    "import matplotlib.image as mpimg\n",
    "\n",
    "import os\n",
    "import PIL\n",
    "from PIL import Image, ImageFile\n",
    "\n",
    "from sklearn.metrics import cohen_kappa_score"
   ]
  },
  {
   "cell_type": "markdown",
   "metadata": {},
   "source": [
    "# Get Data\n"
   ]
  },
  {
   "cell_type": "code",
   "execution_count": null,
   "metadata": {},
   "outputs": [],
   "source": [
    "class RetinopathyDatasetTrain(Dataset):\n",
    "    def __init__(self, csv):\n",
    "        \n",
    "        self.data = pd.read_csv(csv)\n",
    "    \n",
    "               \n",
    "    def __len__(self):\n",
    "        \n",
    "        return len(self.data)\n",
    "    \n",
    "    def __getitem__(self, idx):\n",
    "        \n",
    "        file = \"./Data/train_images/\" + self.data.loc[idx, 'id_code'] + \".png\"\n",
    "        img = Image.open(file)\n",
    "        img = img.resize((256,256), resample = PIL.Image.NEAREST)\n",
    "        img = transforms.ToTensor()(img)\n",
    "        label = self.data.loc[idx, 'diagnosis']\n",
    "        return {'image' : img, 'label' : label}\n",
    "        \n"
   ]
  },
  {
   "cell_type": "code",
   "execution_count": null,
   "metadata": {},
   "outputs": [],
   "source": [
    "def showbatch(batch, fig = (15,15)):\n",
    "    image = batch['image']\n",
    "    if image.shape[0] == 1:\n",
    "        image = np.transpose(image.squeeze(), (1,2,0))\n",
    "        plt.imshow(image)\n",
    "    else:\n",
    "        batchsize = image.shape[0]\n",
    "        grid = torchvision.utils.make_grid(image, nrow = batchsize)\n",
    "        plt.figure(figsize = fig)\n",
    "        plt.imshow(np.transpose(grid, (1,2,0)))"
   ]
  },
  {
   "cell_type": "code",
   "execution_count": null,
   "metadata": {},
   "outputs": [],
   "source": [
    "traindataset = RetinopathyDatasetTrain('train.csv')\n",
    "trainloader = DataLoader(traindataset, shuffle = True, batch_size = 1)\n",
    "batch = next(iter(trainloader))\n",
    "showbatch(batch, (17,17))"
   ]
  },
  {
   "cell_type": "markdown",
   "metadata": {},
   "source": [
    "is data balanced"
   ]
  },
  {
   "cell_type": "code",
   "execution_count": null,
   "metadata": {},
   "outputs": [],
   "source": [
    "numclas0 = (traindataset.data.values[:,1] == 0).sum()\n",
    "numclas1 = (traindataset.data.values[:,1] == 1).sum()\n",
    "numclas2 = (traindataset.data.values[:,1] == 2).sum()\n",
    "numclas3 = (traindataset.data.values[:,1] == 3).sum()\n",
    "numclas4 = (traindataset.data.values[:,1] == 4).sum()\n",
    "print(f\" Number of class 0 is : {numclas0}\")\n",
    "print(f\" Number of class 1 is : {numclas1}\")\n",
    "print(f\" Number of class 2 is : {numclas2}\")\n",
    "print(f\" Number of class 3 is : {numclas3}\")\n",
    "print(f\" Number of class 4 is : {numclas4}\")"
   ]
  },
  {
   "cell_type": "markdown",
   "metadata": {},
   "source": [
    "Data is unbalanced, needs DataAugmentation"
   ]
  },
  {
   "cell_type": "markdown",
   "metadata": {},
   "source": [
    "# Model\n"
   ]
  },
  {
   "cell_type": "code",
   "execution_count": null,
   "metadata": {},
   "outputs": [],
   "source": [
    "class Net(nn.Module):\n",
    "    def __init__(self):\n",
    "        super(Net, self).__init__()\n",
    "        self.conv1 = nn.Conv2d(in_channels=3, out_channels=6, kernel_size=5)\n",
    "        self.conv2 = nn.Conv2d(in_channels=6, out_channels=12, kernel_size=5)\n",
    "        \n",
    "        self.fc1 = nn.Linear(in_features=12 * 61 * 61, out_features=500)\n",
    "        self.fc2 = nn.Linear(in_features=500, out_features=250)\n",
    "        self.fc3 = nn.Linear(in_features=250, out_features=125)\n",
    "        self.fc4 = nn.Linear(in_features=125, out_features=60)\n",
    "        self.out = nn.Linear(in_features=60, out_features=5)\n",
    "        \n",
    "    def forward(self, t):\n",
    "        \n",
    "        # first layer\n",
    "        \n",
    "        t = self.conv1(t)\n",
    "        t = F.relu(t)\n",
    "        t = F.max_pool2d(t, kernel_size=2, stride=2)\n",
    "        \n",
    "        # second layer\n",
    "\n",
    "        t = self.conv2(t)\n",
    "        t = F.relu(t)\n",
    "        t = F.max_pool2d(t, kernel_size=2, stride=2)\n",
    "        \n",
    "        # third layer\n",
    "\n",
    "        t = t.reshape(-1, 12 * 61 * 61)   \n",
    "        t = self.fc1(t)\n",
    "        t = F.relu(t)\n",
    "        \n",
    "        # fourth layer\n",
    "        \n",
    "        t = self.fc2(t)\n",
    "        t = F.relu(t)\n",
    "        \n",
    "        # fifth layer\n",
    "        \n",
    "        t = self.fc3(t)\n",
    "        t = F.relu(t)\n",
    "        \n",
    "        # sixth layer\n",
    "        \n",
    "        t = self.fc4(t)\n",
    "        t = F.relu(t)\n",
    "        \n",
    "        # seventh layer\n",
    "        \n",
    "        t = self.out(t)\n",
    "        \n",
    "        \n",
    "        return t\n"
   ]
  },
  {
   "cell_type": "markdown",
   "metadata": {},
   "source": [
    "# Score"
   ]
  },
  {
   "cell_type": "code",
   "execution_count": null,
   "metadata": {},
   "outputs": [],
   "source": [
    "def kappascore(label, output):\n",
    "    predlabel = output.argmax(dim = 1)\n",
    "    truelabel = label\n",
    "    loss = cohen_kappa_score(predlabel, truelabel, weights = 'quadratic')\n",
    "   # print(f\" predicted labels : {predlabel}\")\n",
    "    #print(f\" true labels : {truelabel}\")\n",
    "\n",
    "    return loss\n"
   ]
  },
  {
   "cell_type": "markdown",
   "metadata": {},
   "source": [
    "# Learning\n"
   ]
  },
  {
   "cell_type": "code",
   "execution_count": null,
   "metadata": {},
   "outputs": [],
   "source": [
    "def getnumcorr(preds, label):\n",
    "    predlabel = preds.argmax(dim = 1)\n",
    "    return (predlabel==label).sum()"
   ]
  },
  {
   "cell_type": "code",
   "execution_count": null,
   "metadata": {
    "scrolled": false
   },
   "outputs": [],
   "source": [
    "net = Net()\n",
    "optimizer = optim.Adam(net.parameters(), lr = 0.01)\n",
    "i = 0\n",
    "for epoch in range(5):\n",
    "    total_loss = 0.0\n",
    "    total_correct = 0\n",
    "    for batch in trainloader:\n",
    "        \n",
    "        image = batch['image']\n",
    "        label = batch['label']\n",
    "        preds = net(image)\n",
    "        \n",
    "        loss = F.cross_entropy(preds, label)\n",
    "\n",
    "        optimizer.zero_grad()\n",
    "        loss.backward()\n",
    "        optimizer.step()\n",
    "        total_loss += loss.item()\n",
    "        total_correct += getnumcorr(preds, label)\n",
    "    print(f\"epoch {epoch},  : total loss : {total_loss}, correct guesses : {total_correct}\")\n",
    "    print(f\"accuracy score: {float(total_correct) / len(traindataset)}\")"
   ]
  },
  {
   "cell_type": "code",
   "execution_count": null,
   "metadata": {},
   "outputs": [],
   "source": []
  },
  {
   "cell_type": "code",
   "execution_count": null,
   "metadata": {},
   "outputs": [],
   "source": []
  },
  {
   "cell_type": "code",
   "execution_count": null,
   "metadata": {},
   "outputs": [],
   "source": []
  }
 ],
 "metadata": {
  "kernelspec": {
   "display_name": "Python 3",
   "language": "python",
   "name": "python3"
  },
  "language_info": {
   "codemirror_mode": {
    "name": "ipython",
    "version": 3
   },
   "file_extension": ".py",
   "mimetype": "text/x-python",
   "name": "python",
   "nbconvert_exporter": "python",
   "pygments_lexer": "ipython3",
   "version": "3.6.8"
  }
 },
 "nbformat": 4,
 "nbformat_minor": 2
}
